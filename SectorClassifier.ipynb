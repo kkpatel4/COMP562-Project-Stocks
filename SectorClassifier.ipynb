{
  "nbformat": 4,
  "nbformat_minor": 0,
  "metadata": {
    "colab": {
      "name": "SectorClassifier.ipynb",
      "provenance": [],
      "collapsed_sections": [],
      "toc_visible": true
    },
    "kernelspec": {
      "name": "python3",
      "display_name": "Python 3"
    },
    "language_info": {
      "name": "python"
    }
  },
  "cells": [
    {
      "cell_type": "code",
      "metadata": {
        "id": "9wa8ewsrOKnl",
        "colab": {
          "base_uri": "https://localhost:8080/"
        },
        "outputId": "0c21aa4b-c698-4eed-efa8-fbceef1a0b96"
      },
      "source": [
        "# Uncomment for Google Drive integration\n",
        "#from google.colab import drive\n",
        "#drive.mount('/content/drive')"
      ],
      "execution_count": null,
      "outputs": [
        {
          "output_type": "stream",
          "text": [
            "Mounted at /content/drive\n"
          ],
          "name": "stdout"
        }
      ]
    },
    {
      "cell_type": "markdown",
      "metadata": {
        "id": "ojmJtLQxox4p"
      },
      "source": [
        "**COMP 562 Final Project - Analysis of Stocks and Sectors**"
      ]
    },
    {
      "cell_type": "code",
      "metadata": {
        "id": "m1oJfjqZyVSX"
      },
      "source": [
        "from sklearn.preprocessing import StandardScaler\n",
        "import pandas as pd\n",
        "from sklearn.neural_network import MLPClassifier\n",
        "\n",
        "##################\n",
        "# Financial Data #\n",
        "##################\n",
        "# Load data - change this path to where the financial_data.csv file can be found on your drive\n",
        "# financial_data = pd.read_csv('/content/drive/MyDrive/COMP 562 Final Project/financial_data.csv')\n",
        "financial_data = pd.read_csv('/data/financial_data.csv')\n"
      ],
      "execution_count": null,
      "outputs": []
    },
    {
      "cell_type": "markdown",
      "metadata": {
        "id": "N_g9If-Wztvg"
      },
      "source": [
        "**Define Training, Test Sets**"
      ]
    },
    {
      "cell_type": "code",
      "metadata": {
        "colab": {
          "base_uri": "https://localhost:8080/"
        },
        "id": "9W9ofG3OnjLq",
        "outputId": "960f5c90-40d1-49b3-cb1f-1fcb1d0bb292"
      },
      "source": [
        "test_set = pd.DataFrame()\n",
        "train_set = pd.DataFrame()\n",
        "\n",
        "# Get indices of each sector to segment test, train sets\n",
        "sectors = financial_data.Sector_y.unique()\n",
        "for sector in sectors:\n",
        "  test_set = test_set.append(financial_data.iloc[financial_data.index[financial_data['Sector_y'] == sector].tolist()[:2]], ignore_index=True)\n",
        "  train_set = train_set.append(financial_data.iloc[financial_data.index[financial_data['Sector_y'] == sector].tolist()[2:]], ignore_index=True)\n",
        "\n",
        "X_train, X_test = train_set._get_numeric_data(), test_set._get_numeric_data()\n",
        "x_cols = X_train.columns\n",
        "y_train, y_test = train_set[['Symbol', 'Name', 'Sector_y']], test_set[['Symbol', 'Name', 'Sector_y']]\n",
        "y_labels = y_test\n",
        "\n",
        "# Scale the input data\n",
        "scaler = StandardScaler()\n",
        "X_train = scaler.fit_transform(X_train)\n",
        "X_train = pd.DataFrame(X_train, columns=x_cols).fillna(0)\n",
        "X_test = scaler.fit_transform(X_test)\n",
        "X_test = pd.DataFrame(X_test, columns=x_cols).fillna(0)\n",
        "\n",
        "# Assign numeric values to sector labels\n",
        "sector_map = {}\n",
        "for i in range(len(sectors)):\n",
        "  sector_map[sectors[i]] = i\n",
        "y_train = [sector_map[sector] for sector in y_train.Sector_y]\n",
        "y_test = [sector_map[sector] for sector in y_test.Sector_y]\n",
        "\n",
        "print(f\"Sector Label Map: {sector_map}\")\n",
        "print(f\"Number of Parameters: {len(x_cols)}\")\n",
        "print(f\"Training Set Size: {len(X_train)}, Test Set Size: {len(X_test)}\")\n",
        "print()"
      ],
      "execution_count": null,
      "outputs": [
        {
          "output_type": "stream",
          "text": [
            "Sector Label Map: {'Industrials': 0, 'Healthcare': 1, 'Technology': 2, 'Consumer Cyclical': 3, 'Utilities': 4, 'Financial Services': 5, 'Basic Materials': 6, 'Real Estate': 7, 'Consumer Defensive': 8, 'Communication Services': 9, 'Energy': 10}\n",
            "Number of Parameters: 250\n",
            "Training Set Size: 443, Test Set Size: 22\n",
            "\n"
          ],
          "name": "stdout"
        },
        {
          "output_type": "stream",
          "text": [
            "/usr/local/lib/python3.7/dist-packages/sklearn/utils/extmath.py:765: RuntimeWarning: invalid value encountered in true_divide\n",
            "  updated_mean = (last_sum + new_sum) / updated_sample_count\n",
            "/usr/local/lib/python3.7/dist-packages/sklearn/utils/extmath.py:706: RuntimeWarning: Degrees of freedom <= 0 for slice.\n",
            "  result = op(x, *args, **kwargs)\n",
            "/usr/local/lib/python3.7/dist-packages/sklearn/utils/extmath.py:765: RuntimeWarning: invalid value encountered in true_divide\n",
            "  updated_mean = (last_sum + new_sum) / updated_sample_count\n",
            "/usr/local/lib/python3.7/dist-packages/sklearn/utils/extmath.py:706: RuntimeWarning: Degrees of freedom <= 0 for slice.\n",
            "  result = op(x, *args, **kwargs)\n"
          ],
          "name": "stderr"
        }
      ]
    },
    {
      "cell_type": "code",
      "metadata": {
        "id": "--AVkJAzn2mY"
      },
      "source": [
        "###############################\n",
        "#    Fit model to the data    #\n",
        "###############################\n",
        "#   - X: ndarray of shape (n_samples, n_features)\n",
        "#   - y: ndarray of shape (n_samples,)\n",
        "\n",
        "def train_classifier_alpha(X_train, y_train, alpha_):\n",
        "  tempClassifier = MLPClassifier(hidden_layer_sizes=(50, 50), activation='tanh', solver='adam', alpha=alpha_, learning_rate='constant', learning_rate_init=.001, momentum=.9, max_iter=5000)\n",
        "  tempClassifier.fit(X_train, y_train)\n",
        "  return tempClassifier\n",
        "def train_classifier_lr(X_train, y_train, lr):\n",
        "  tempClassifier = MLPClassifier(hidden_layer_sizes=(50, 50), activation='tanh', solver='adam', alpha=.001, learning_rate='constant', learning_rate_init=lr, momentum=.9, max_iter=5000)\n",
        "  tempClassifier.fit(X_train, y_train)\n",
        "  return tempClassifier\n"
      ],
      "execution_count": null,
      "outputs": []
    },
    {
      "cell_type": "markdown",
      "metadata": {
        "id": "0x-fn0900zbz"
      },
      "source": [
        "**Cross-Validation | No PCA**"
      ]
    },
    {
      "cell_type": "code",
      "metadata": {
        "colab": {
          "base_uri": "https://localhost:8080/"
        },
        "id": "E43tOa6jIl7F",
        "outputId": "8d73f6f1-d5a0-4e81-a530-dd79f006c023"
      },
      "source": [
        "###################################\n",
        "#    Cross-Validation - No PCA    #\n",
        "###################################\n",
        "import numpy as np\n",
        "from sklearn.model_selection import StratifiedKFold\n",
        "\n",
        "num_folds = 4\n",
        "training_folds = StratifiedKFold(n_splits=num_folds)\n",
        "\n",
        "# Define hyperparameter values we are trying to optimize\n",
        "alpha_list = [.01, .001, .005, .0001, .0005]\n",
        "learning_rate_list = [.01, .001, .005, .0001, .0005]\n",
        "\n",
        "# Convert y data from list to np.array for easier indexing\n",
        "y_train = np.array(y_train)\n",
        "\n",
        "alphaError = []\n",
        "lrError = []\n",
        "# Iterate over alphas\n",
        "for i in range(len(alpha_list)):\n",
        "#for lr in learning_rate_list:\n",
        "  CVAlphaError = 0\n",
        "  CVLRError = 0\n",
        "  # For each alpha, train on each fold\n",
        "  for train_index, test_index in training_folds.split(X_train, y_train) :\n",
        "    X_fold_train, X_fold_test = X_train.iloc[train_index], X_train.iloc[test_index]\n",
        "    y_fold_train, y_fold_test = y_train[train_index], y_train[test_index]\n",
        "\n",
        "    # Train temp classifiers\n",
        "    alphaClassifier = train_classifier_alpha(X_fold_train, y_fold_train, alpha_list[i])\n",
        "    lrClassifier = train_classifier_lr(X_fold_train, y_fold_train, learning_rate_list[i])\n",
        "\n",
        "    # Score classifiers\n",
        "    test_score_lr = lrClassifier.score(X_fold_test, y_fold_test)\n",
        "    test_score_alpha = alphaClassifier.score(X_fold_test, y_fold_test)\n",
        "\n",
        "    CVAlphaError += 1-test_score_alpha\n",
        "    CVLRError += 1-test_score_lr\n",
        "\n",
        "  # Update error vectors\n",
        "  CVAlphaError = CVAlphaError/num_folds\n",
        "  CVLRError = CVLRError/num_folds\n",
        "  alphaError.append(CVAlphaError)\n",
        "  lrError.append(CVLRError)\n",
        "  print(f\"CVError (alpha={alpha_list[i]}): {CVAlphaError}\")\n",
        "  print(f\"CVError (learning_rate={learning_rate_list[i]}): {CVLRError}\")\n",
        "  print()\n",
        "\n"
      ],
      "execution_count": null,
      "outputs": [
        {
          "output_type": "stream",
          "text": [
            "CVError (alpha=0.01): 0.42205159705159706\n",
            "CVError (learning_rate=0.01): 0.41287878787878785\n",
            "\n",
            "CVError (alpha=0.001): 0.40395167895167894\n",
            "CVError (learning_rate=0.001): 0.38359950859950864\n",
            "\n",
            "CVError (alpha=0.005): 0.4355446355446355\n",
            "CVError (learning_rate=0.005): 0.3972153972153972\n",
            "\n",
            "CVError (alpha=0.0001): 0.4016994266994267\n",
            "CVError (learning_rate=0.0001): 0.41973791973791974\n",
            "\n",
            "CVError (alpha=0.0005): 0.4175470925470925\n",
            "CVError (learning_rate=0.0005): 0.3904176904176904\n",
            "\n"
          ],
          "name": "stdout"
        }
      ]
    },
    {
      "cell_type": "markdown",
      "metadata": {
        "id": "br7uUzK31559"
      },
      "source": [
        "**Show CV Analysis (non-PCA)**"
      ]
    },
    {
      "cell_type": "code",
      "metadata": {
        "colab": {
          "base_uri": "https://localhost:8080/",
          "height": 577
        },
        "id": "0JyO9FRjVmTx",
        "outputId": "effa0659-80a8-4cda-dc78-9237f24486db"
      },
      "source": [
        "import matplotlib.pyplot as plt\n",
        "plt.plot(learning_rate_list, lrError, 'o')\n",
        "plt.xlabel('Learning Rate')\n",
        "plt.ylabel('CV Error')\n",
        "plt.show()\n",
        "\n",
        "print(f\"Min Learning Rate: {learning_rate_list[np.argmin(lrError)]}\")\n",
        "\n",
        "plt.plot(learning_rate_list, alphaError, 'o')\n",
        "plt.xlabel('Alpha')\n",
        "plt.ylabel('CV Error')\n",
        "plt.show()\n",
        "print(f\"Min Alpha: {alpha_list[np.argmin(alphaError)]}\")"
      ],
      "execution_count": null,
      "outputs": [
        {
          "output_type": "display_data",
          "data": {
            "image/png": "[encoded data removed]",
            "text/plain": [
              "<Figure size 432x288 with 1 Axes>"
            ]
          },
          "metadata": {
            "tags": [],
            "needs_background": "light"
          }
        },
        {
          "output_type": "stream",
          "text": [
            "Min Learning Rate: 0.001\n"
          ],
          "name": "stdout"
        },
        {
          "output_type": "display_data",
          "data": {
            "image/png": "[encoded data removed]",
            "text/plain": [
              "<Figure size 432x288 with 1 Axes>"
            ]
          },
          "metadata": {
            "tags": [],
            "needs_background": "light"
          }
        },
        {
          "output_type": "stream",
          "text": [
            "Min Alpha: 0.0001\n"
          ],
          "name": "stdout"
        }
      ]
    },
    {
      "cell_type": "markdown",
      "metadata": {
        "id": "uOzdrGjzGEBR"
      },
      "source": [
        "**Train and Evaluate Final Non-PCA Model**"
      ]
    },
    {
      "cell_type": "code",
      "metadata": {
        "id": "CYRNLJvxowC2",
        "colab": {
          "base_uri": "https://localhost:8080/"
        },
        "outputId": "5189c34a-41a2-48c4-efbd-24b361a8eadc"
      },
      "source": [
        "from sklearn.neural_network import MLPClassifier\n",
        "\n",
        "#############################\n",
        "#    Define NN structure    #\n",
        "#############################\n",
        "#   - hidden_layer_sizes = tuple, element represents the number of neurons in the ith hidden layer\n",
        "#   - activation = activation function for the hidden layer | options we are interested in are {'relu', 'logistic', 'tanh'}\n",
        "#   - solver = solver for weight optimization | options are {'lbfgs', 'sgd', 'adam'}, sgd is stochastic gradient descent. Apparently for small datasets lbfgs works best\n",
        "#   - alpha = regularization parameter, default = .0001\n",
        "#   - learning_rate = learning rate schedule for weight updates | options are {'constant', 'invscaling', 'adaptive'}\n",
        "#   - learning_rate_init = initial learning rate used | only used for 'sgd' and 'adam' optimizers\n",
        "#   - max_iter = maximum number of training iterations, unless earlier convergence\n",
        "#   - momentum = Momentum for SGD update, only used for 'sgd' optimizer, default=.9\n",
        "\n",
        "sectorClassifier = MLPClassifier(hidden_layer_sizes=(50, 50), activation='tanh', solver='adam', alpha=.0001, learning_rate='constant', learning_rate_init=.001, max_iter=250)\n",
        "\n",
        "sectorClassifier.fit(X_train, y_train)\n",
        "print(\"Training set score: %f\" % sectorClassifier.score(X_train, y_train))\n",
        "print(\"Test set score: %f\" % sectorClassifier.score(X_test, y_test))\n",
        "\n",
        "\n"
      ],
      "execution_count": null,
      "outputs": [
        {
          "output_type": "stream",
          "text": [
            "Training set score: 1.000000\n",
            "Test set score: 0.681818\n"
          ],
          "name": "stdout"
        },
        {
          "output_type": "stream",
          "text": [
            "/usr/local/lib/python3.7/dist-packages/sklearn/neural_network/_multilayer_perceptron.py:571: ConvergenceWarning: Stochastic Optimizer: Maximum iterations (250) reached and the optimization hasn't converged yet.\n",
            "  % self.max_iter, ConvergenceWarning)\n"
          ],
          "name": "stderr"
        }
      ]
    },
    {
      "cell_type": "markdown",
      "metadata": {
        "id": "vaibN23qKzgv"
      },
      "source": [
        "**Analyze Incorrect Classifications**"
      ]
    },
    {
      "cell_type": "code",
      "metadata": {
        "colab": {
          "base_uri": "https://localhost:8080/",
          "height": 2228
        },
        "id": "28kTNJ2KK4EG",
        "outputId": "a4da7941-a5dd-4af5-a84a-c7112032ecad"
      },
      "source": [
        "sector_map_reverse = {y:x for x,y in sector_map.items()}\n",
        "\n",
        "for i in range(len(y_test)):\n",
        "  prediction = sectorClassifier.predict([X_test.iloc[i]])[0]\n",
        "  log_probs = sectorClassifier.predict_log_proba([X_test.iloc[i]])\n",
        "  true_sector = y_test[i]\n",
        "  if prediction != true_sector:\n",
        "    print(f\"{y_labels.iloc[i].Name}\")\n",
        "    print(f\"Predicted Sector: {sector_map_reverse[prediction]} ({prediction})\")\n",
        "    print(f\"Actual Sector: {sector_map_reverse[true_sector]} ({true_sector})\")\n",
        "    plt.bar(range(len(sector_map.items())), -1*log_probs[0], color='blue')\n",
        "    plt.xticks(range(len(sector_map.items())))\n",
        "    plt.xlabel('Sector')\n",
        "    plt.ylabel('LogProb(X)')\n",
        "    plt.show()\n"
      ],
      "execution_count": null,
      "outputs": [
        {
          "output_type": "stream",
          "text": [
            "A.O. Smith Corp\n",
            "Predicted Sector: Technology (2)\n",
            "Actual Sector: Industrials (0)\n"
          ],
          "name": "stdout"
        },
        {
          "output_type": "display_data",
          "data": {
            "image/png": "[encoded data removed]",
            "text/plain": [
              "<Figure size 432x288 with 1 Axes>"
            ]
          },
          "metadata": {
            "tags": [],
            "needs_background": "light"
          }
        },
        {
          "output_type": "stream",
          "text": [
            "Abbott Laboratories\n",
            "Predicted Sector: Technology (2)\n",
            "Actual Sector: Healthcare (1)\n"
          ],
          "name": "stdout"
        },
        {
          "output_type": "display_data",
          "data": {
            "image/png": "[encoded data removed]",
            "text/plain": [
              "<Figure size 432x288 with 1 Axes>"
            ]
          },
          "metadata": {
            "tags": [],
            "needs_background": "light"
          }
        },
        {
          "output_type": "stream",
          "text": [
            "AbbVie Inc.\n",
            "Predicted Sector: Financial Services (5)\n",
            "Actual Sector: Healthcare (1)\n"
          ],
          "name": "stdout"
        },
        {
          "output_type": "display_data",
          "data": {
            "image/png": "[encoded data removed]",
            "text/plain": [
              "<Figure size 432x288 with 1 Axes>"
            ]
          },
          "metadata": {
            "tags": [],
            "needs_background": "light"
          }
        },
        {
          "output_type": "stream",
          "text": [
            "Advance Auto Parts\n",
            "Predicted Sector: Healthcare (1)\n",
            "Actual Sector: Consumer Cyclical (3)\n"
          ],
          "name": "stdout"
        },
        {
          "output_type": "display_data",
          "data": {
            "image/png": "[encoded data removed]",
            "text/plain": [
              "<Figure size 432x288 with 1 Axes>"
            ]
          },
          "metadata": {
            "tags": [],
            "needs_background": "light"
          }
        },
        {
          "output_type": "stream",
          "text": [
            "AES Corp\n",
            "Predicted Sector: Consumer Cyclical (3)\n",
            "Actual Sector: Utilities (4)\n"
          ],
          "name": "stdout"
        },
        {
          "output_type": "display_data",
          "data": {
            "image/png": "[encoded data removed]",
            "text/plain": [
              "<Figure size 432x288 with 1 Axes>"
            ]
          },
          "metadata": {
            "tags": [],
            "needs_background": "light"
          }
        },
        {
          "output_type": "stream",
          "text": [
            "Air Products & Chemicals Inc\n",
            "Predicted Sector: Technology (2)\n",
            "Actual Sector: Basic Materials (6)\n"
          ],
          "name": "stdout"
        },
        {
          "output_type": "display_data",
          "data": {
            "image/png": "[encoded data removed]",
            "text/plain": [
              "<Figure size 432x288 with 1 Axes>"
            ]
          },
          "metadata": {
            "tags": [],
            "needs_background": "light"
          }
        },
        {
          "output_type": "stream",
          "text": [
            "Altria Group Inc\n",
            "Predicted Sector: Industrials (0)\n",
            "Actual Sector: Consumer Defensive (8)\n"
          ],
          "name": "stdout"
        },
        {
          "output_type": "display_data",
          "data": {
            "image/png": "[encoded data removed]",
            "text/plain": [
              "<Figure size 432x288 with 1 Axes>"
            ]
          },
          "metadata": {
            "tags": [],
            "needs_background": "light"
          }
        }
      ]
    },
    {
      "cell_type": "markdown",
      "metadata": {
        "id": "-bVcQv4Q0ECe"
      },
      "source": [
        "**Implement PCA**"
      ]
    },
    {
      "cell_type": "code",
      "metadata": {
        "id": "BskbybqX0HFi"
      },
      "source": [
        "from sklearn.decomposition import PCA\n",
        "\n",
        "# Number of components derived from results of clustering analysis\n",
        "pca = PCA(n_components=10)\n",
        "pcs_train = pca.fit_transform(X_train)\n",
        "pcs_test = pca.fit_transform(X_test)\n",
        "\n",
        "PCA_X_train = pd.DataFrame(pcs_train)\n",
        "PCA_X_test = pd.DataFrame(pcs_test)"
      ],
      "execution_count": null,
      "outputs": []
    },
    {
      "cell_type": "markdown",
      "metadata": {
        "id": "OoYMkEqJ04Qe"
      },
      "source": [
        "**Cross Validation | w/ PCA**"
      ]
    },
    {
      "cell_type": "code",
      "metadata": {
        "colab": {
          "base_uri": "https://localhost:8080/"
        },
        "id": "adWt-6B20xhe",
        "outputId": "65118920-ac8c-467f-80f4-5349c5eadef6"
      },
      "source": [
        "###################################\n",
        "#    Cross-Validation - w/ PCA    #\n",
        "###################################\n",
        "import numpy as np\n",
        "from sklearn.model_selection import StratifiedKFold\n",
        "\n",
        "num_folds = 4\n",
        "training_folds = StratifiedKFold(n_splits=num_folds)\n",
        "\n",
        "# Define hyperparameter values we are trying to optimize\n",
        "alpha_list = [.01, .001, .005, .0001, .0005]\n",
        "learning_rate_list = [.01, .001, .005, .0001, .0005]\n",
        "\n",
        "# Convert y data from list to np.array for easier indexing\n",
        "y_train = np.array(y_train)\n",
        "y_test = np.array(y_test)\n",
        "\n",
        "alphaError = []\n",
        "lrError = []\n",
        "# Iterate over alphas\n",
        "for i in range(len(alpha_list)):\n",
        "#for lr in learning_rate_list:\n",
        "  CVAlphaError = 0\n",
        "  CVLRError = 0\n",
        "  # For each alpha, train on each fold\n",
        "  for train_index, test_index in training_folds.split(PCA_X_train, y_train) :\n",
        "    X_fold_train, X_fold_test = PCA_X_train.iloc[train_index], PCA_X_train.iloc[test_index]\n",
        "    y_fold_train, y_fold_test = y_train[train_index], y_train[test_index]\n",
        "\n",
        "    # Train temp classifiers\n",
        "    alphaClassifier = train_classifier_alpha(X_fold_train, y_fold_train, alpha_list[i])\n",
        "    lrClassifier = train_classifier_lr(X_fold_train, y_fold_train, learning_rate_list[i])\n",
        "\n",
        "    # Score trained classifiers\n",
        "    test_score_lr = lrClassifier.score(X_fold_test, y_fold_test)\n",
        "    test_score_alpha = alphaClassifier.score(X_fold_test, y_fold_test)\n",
        "\n",
        "    CVAlphaError += 1-test_score_alpha\n",
        "    CVLRError += 1-test_score_lr\n",
        "    \n",
        "  # Update error vectors  \n",
        "  CVAlphaError = CVAlphaError/num_folds\n",
        "  CVLRError = CVLRError/num_folds\n",
        "  alphaError.append(CVAlphaError)\n",
        "  lrError.append(CVLRError)\n",
        "  print(f\"CVError (alpha={alpha_list[i]}): {CVAlphaError}\")\n",
        "  print(f\"CVError (learning_rate={learning_rate_list[i]}): {CVLRError}\")\n",
        "  print()"
      ],
      "execution_count": null,
      "outputs": [
        {
          "output_type": "stream",
          "text": [
            "CVError (alpha=0.01): 0.5144963144963145\n",
            "CVError (learning_rate=0.01): 0.4919533169533169\n",
            "\n",
            "CVError (alpha=0.001): 0.5078009828009828\n",
            "CVError (learning_rate=0.001): 0.4920966420966421\n",
            "\n",
            "CVError (alpha=0.005): 0.50999180999181\n",
            "CVError (learning_rate=0.005): 0.4874692874692875\n",
            "\n",
            "CVError (alpha=0.0001): 0.5078214578214578\n",
            "CVError (learning_rate=0.0001): 0.5371826371826371\n",
            "\n",
            "CVError (alpha=0.0005): 0.5258394758394758\n",
            "CVError (learning_rate=0.0005): 0.5123259623259623\n",
            "\n"
          ],
          "name": "stdout"
        }
      ]
    },
    {
      "cell_type": "markdown",
      "metadata": {
        "id": "d3pNf_e81_7C"
      },
      "source": [
        "**Show CV Analysis (PCA)**"
      ]
    },
    {
      "cell_type": "code",
      "metadata": {
        "colab": {
          "base_uri": "https://localhost:8080/",
          "height": 577
        },
        "id": "67U-Vibl3Alg",
        "outputId": "fabc23e5-8da6-4164-d3f0-acc91014b242"
      },
      "source": [
        "import matplotlib.pyplot as plt\n",
        "plt.plot(learning_rate_list, lrError, 'o')\n",
        "plt.xlabel('Learning Rate')\n",
        "plt.ylabel('CV Error')\n",
        "plt.show()\n",
        "\n",
        "print(f\"Min Learning Rate: {learning_rate_list[np.argmin(lrError)]}\")\n",
        "\n",
        "plt.plot(learning_rate_list, alphaError, 'o')\n",
        "plt.xlabel('Alpha')\n",
        "plt.ylabel('CV Error')\n",
        "plt.show()\n",
        "print(f\"Min Alpha: {alpha_list[np.argmin(alphaError)]}\")"
      ],
      "execution_count": null,
      "outputs": [
        {
          "output_type": "display_data",
          "data": {
            "image/png": "[encoded data removed]",
            "text/plain": [
              "<Figure size 432x288 with 1 Axes>"
            ]
          },
          "metadata": {
            "tags": [],
            "needs_background": "light"
          }
        },
        {
          "output_type": "stream",
          "text": [
            "Min Learning Rate: 0.005\n"
          ],
          "name": "stdout"
        },
        {
          "output_type": "display_data",
          "data": {
            "image/png": "[encoded data removed]",
            "text/plain": [
              "<Figure size 432x288 with 1 Axes>"
            ]
          },
          "metadata": {
            "tags": [],
            "needs_background": "light"
          }
        },
        {
          "output_type": "stream",
          "text": [
            "Min Alpha: 0.001\n"
          ],
          "name": "stdout"
        }
      ]
    },
    {
      "cell_type": "markdown",
      "metadata": {
        "id": "ZMuqLey94JQq"
      },
      "source": [
        "**Train and Evaluate Final Model (PCA)**"
      ]
    },
    {
      "cell_type": "code",
      "metadata": {
        "colab": {
          "base_uri": "https://localhost:8080/"
        },
        "id": "embqJjWEu2UL",
        "outputId": "7bfefcc0-a79a-41e8-8a24-3804a59cbbb3"
      },
      "source": [
        "#############################\n",
        "#    Define NN structure    #\n",
        "#############################\n",
        "#   - hidden_layer_sizes = tuple, element represents the number of neurons in the ith hidden layer\n",
        "#   - activation = activation function for the hidden layer | options we are interested in are {'relu', 'logistic', 'tanh'}\n",
        "#   - solver = solver for weight optimization | options are {'lbfgs', 'sgd', 'adam'}, sgd is stochastic gradient descent. Apparently for small datasets lbfgs works best\n",
        "#   - alpha = regularization parameter, default = .0001\n",
        "#   - learning_rate = learning rate schedule for weight updates | options are {'constant', 'invscaling', 'adaptive'}\n",
        "#   - learning_rate_init = initial learning rate used | only used for 'sgd' and 'adam' optimizers\n",
        "#   - max_iter = maximum number of training iterations, unless earlier convergence\n",
        "#   - momentum = Momentum for SGD update, only used for 'sgd' optimizer, default=.9\n",
        "\n",
        "sectorClassifierPCA = MLPClassifier(hidden_layer_sizes=(50, 50), activation='tanh', solver='adam', alpha=.001, learning_rate='constant', learning_rate_init=.005, max_iter=100)\n",
        "\n",
        "sectorClassifierPCA.fit(X_train, y_train)\n",
        "print(\"Training set score: %f\" % sectorClassifierPCA.score(X_train, y_train))\n",
        "print(\"Test set score: %f\" % sectorClassifierPCA.score(X_test, y_test))\n"
      ],
      "execution_count": null,
      "outputs": [
        {
          "output_type": "stream",
          "text": [
            "Training set score: 1.000000\n",
            "Test set score: 0.636364\n"
          ],
          "name": "stdout"
        },
        {
          "output_type": "stream",
          "text": [
            "/usr/local/lib/python3.7/dist-packages/sklearn/neural_network/_multilayer_perceptron.py:571: ConvergenceWarning: Stochastic Optimizer: Maximum iterations (100) reached and the optimization hasn't converged yet.\n",
            "  % self.max_iter, ConvergenceWarning)\n"
          ],
          "name": "stderr"
        }
      ]
    },
    {
      "cell_type": "markdown",
      "metadata": {
        "id": "V4qV-sOlwHch"
      },
      "source": [
        "**Analyze Incorrect Classifications**\n"
      ]
    },
    {
      "cell_type": "code",
      "metadata": {
        "colab": {
          "base_uri": "https://localhost:8080/",
          "height": 2540
        },
        "id": "Jrxc6rTPwLVg",
        "outputId": "0bd6af4b-8f80-486a-da0a-dad51f83a5f4"
      },
      "source": [
        "for i in range(len(y_test)):\n",
        "  prediction = sectorClassifierPCA.predict([X_test.iloc[i]])[0]\n",
        "  log_probs = sectorClassifierPCA.predict_log_proba([X_test.iloc[i]])\n",
        "  true_sector = y_test[i]\n",
        "  if prediction != true_sector:\n",
        "    print(f\"{y_labels.iloc[i].Name}\")\n",
        "    print(f\"Predicted Sector: {sector_map_reverse[prediction]} ({prediction})\")\n",
        "    print(f\"Actual Sector: {sector_map_reverse[true_sector]} ({true_sector})\")\n",
        "    plt.bar(range(len(sector_map.items())), -1*log_probs[0], color='blue')\n",
        "    plt.xticks(range(len(sector_map.items())))\n",
        "    plt.xlabel('Sector')\n",
        "    plt.ylabel('LogProb(X)')\n",
        "    plt.show()\n"
      ],
      "execution_count": null,
      "outputs": [
        {
          "output_type": "stream",
          "text": [
            "Abbott Laboratories\n",
            "Predicted Sector: Technology (2)\n",
            "Actual Sector: Healthcare (1)\n"
          ],
          "name": "stdout"
        },
        {
          "output_type": "display_data",
          "data": {
            "image/png": "[encoded data removed]",
            "text/plain": [
              "<Figure size 432x288 with 1 Axes>"
            ]
          },
          "metadata": {
            "tags": [],
            "needs_background": "light"
          }
        },
        {
          "output_type": "stream",
          "text": [
            "AbbVie Inc.\n",
            "Predicted Sector: Technology (2)\n",
            "Actual Sector: Healthcare (1)\n"
          ],
          "name": "stdout"
        },
        {
          "output_type": "display_data",
          "data": {
            "image/png": "[encoded data removed]",
            "text/plain": [
              "<Figure size 432x288 with 1 Axes>"
            ]
          },
          "metadata": {
            "tags": [],
            "needs_background": "light"
          }
        },
        {
          "output_type": "stream",
          "text": [
            "Advance Auto Parts\n",
            "Predicted Sector: Healthcare (1)\n",
            "Actual Sector: Consumer Cyclical (3)\n"
          ],
          "name": "stdout"
        },
        {
          "output_type": "display_data",
          "data": {
            "image/png": "[encoded data removed]",
            "text/plain": [
              "<Figure size 432x288 with 1 Axes>"
            ]
          },
          "metadata": {
            "tags": [],
            "needs_background": "light"
          }
        },
        {
          "output_type": "stream",
          "text": [
            "Air Products & Chemicals Inc\n",
            "Predicted Sector: Technology (2)\n",
            "Actual Sector: Basic Materials (6)\n"
          ],
          "name": "stdout"
        },
        {
          "output_type": "display_data",
          "data": {
            "image/png": "[encoded data removed]",
            "text/plain": [
              "<Figure size 432x288 with 1 Axes>"
            ]
          },
          "metadata": {
            "tags": [],
            "needs_background": "light"
          }
        },
        {
          "output_type": "stream",
          "text": [
            "Albemarle Corp\n",
            "Predicted Sector: Industrials (0)\n",
            "Actual Sector: Basic Materials (6)\n"
          ],
          "name": "stdout"
        },
        {
          "output_type": "display_data",
          "data": {
            "image/png": "[encoded data removed]",
            "text/plain": [
              "<Figure size 432x288 with 1 Axes>"
            ]
          },
          "metadata": {
            "tags": [],
            "needs_background": "light"
          }
        },
        {
          "output_type": "stream",
          "text": [
            "Altria Group Inc\n",
            "Predicted Sector: Consumer Cyclical (3)\n",
            "Actual Sector: Consumer Defensive (8)\n"
          ],
          "name": "stdout"
        },
        {
          "output_type": "display_data",
          "data": {
            "image/png": "[encoded data removed]",
            "text/plain": [
              "<Figure size 432x288 with 1 Axes>"
            ]
          },
          "metadata": {
            "tags": [],
            "needs_background": "light"
          }
        },
        {
          "output_type": "stream",
          "text": [
            "American Tower Corp A\n",
            "Predicted Sector: Real Estate (7)\n",
            "Actual Sector: Communication Services (9)\n"
          ],
          "name": "stdout"
        },
        {
          "output_type": "display_data",
          "data": {
            "image/png": "[encoded data removed]",
            "text/plain": [
              "<Figure size 432x288 with 1 Axes>"
            ]
          },
          "metadata": {
            "tags": [],
            "needs_background": "light"
          }
        },
        {
          "output_type": "stream",
          "text": [
            "AT&T Inc\n",
            "Predicted Sector: Financial Services (5)\n",
            "Actual Sector: Communication Services (9)\n"
          ],
          "name": "stdout"
        },
        {
          "output_type": "display_data",
          "data": {
            "image/png": "[encoded data removed]",
            "text/plain": [
              "<Figure size 432x288 with 1 Axes>"
            ]
          },
          "metadata": {
            "tags": [],
            "needs_background": "light"
          }
        }
      ]
    }
  ]
}